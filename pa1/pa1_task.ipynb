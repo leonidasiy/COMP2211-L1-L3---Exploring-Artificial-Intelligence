{
  "cells": [
    {
      "cell_type": "markdown",
      "metadata": {
        "id": "wC4S6k57mpHn"
      },
      "source": [
        "## **Section 1** Introduction (no tasks to complete)"
      ]
    },
    {
      "cell_type": "markdown",
      "metadata": {
        "id": "A-983rUVmpHn"
      },
      "source": [
        "In addition to introducing fundamental algorithms in Artificial Intelligence, it is crucial to understand how to apply these algorithms to solve real-world problems. This Programming Assignment presents a real-life problem that can be addressed using k-Nearest Neighbors (kNN) and k-Means clustering.\n",
        "\n",
        "All living organisms are composed of *cells*. *Cells* produce *proteins*. Different types of *cells* generate *proteins* in varying quantities. For instance, a type A *cell* may produce 3 units of *protein* X, while a type B *cell* might produce only 1 unit. Cancer *cells* and normal *cells* often display distinct patterns of protein production.\n",
        "\n",
        "Cell type annotation (identifying the type of cells) is essential for analyzing and interpreting large datasets. Currently, manual cell annotation, which is the predominant method, is limited by speed and the need for expert knowledge. We aim to develop a computational approach for cell annotation. **K-Nearest Neighbors** and **K-Means clustering** are suitable options for this task.\n",
        "\n",
        "The datasets you will work with are organized so that each row corresponds to a cell, and each column represents a protein. For example, the first row indicates the protein levels of the first cell in the dataset."
      ]
    },
    {
      "cell_type": "markdown",
      "metadata": {
        "id": "1Gf2u9uC2cAK"
      },
      "source": [
        "## Notice\n",
        "\n",
        "Upon completing Handout 3 (Advanced Python for Artificial Intelligence), you be able to finish Section 2 of this PA. While writing vectorized code may be challenging at first, don’t get discouraged; you will master it.\n",
        "\n",
        "After completing Handout 5 (K-Nearest Neighbors Classifier), you will be able to finish Section 3 of this PA.\n",
        "\n",
        "After completing Handout 6 (K-Means Clustering), you will be able to finish Section 4 of this PA.\n",
        "\n",
        "**We recommend starting early, as you may have many other commitments (midterms, projects, assignments from other courses, etc.) as the deadline approaches.**"
      ]
    },
    {
      "cell_type": "markdown",
      "metadata": {
        "id": "GMw0r9ZrmpHn"
      },
      "source": [
        "## **Section 2** Preprocessing and Principal Component Analysis (3.5 Points In Total)"
      ]
    },
    {
      "cell_type": "code",
      "execution_count": 1,
      "metadata": {
        "id": "GYzkDaCzmpHo"
      },
      "outputs": [],
      "source": [
        "# Import necessary libraries\n",
        "# You are NOT allowed to import any additional library\n",
        "import pandas as pd\n",
        "import numpy as np\n",
        "from sklearn.decomposition import PCA\n",
        "import matplotlib.pyplot as plt"
      ]
    },
    {
      "cell_type": "markdown",
      "metadata": {
        "id": "BEU2ewYK2cAO"
      },
      "source": [
        "The training set consists of  `95 rows` (95 cells) and `3,777 columns` (3777 proteins). Labels for all cells in the training set are provided, with each cell labeled by a `string` (e.g. \"Normal\" indicates a normal cell, while \"CancerA\" and \"CancerB\" refer to two different types of cancer cells). The testing set contains `19 rows` (19 cells) and `3,777 columns` (3777 proteins). Our goal is to predict the type of each cell or to cluster the cells based on protein abundance."
      ]
    },
    {
      "cell_type": "code",
      "execution_count": 2,
      "metadata": {
        "id": "DsEEHbiPmpHo"
      },
      "outputs": [],
      "source": [
        "# Load training and test dataset, convert them from pandas dataframe to numpy array\n",
        "if __name__ == \"__main__\":\n",
        "  train_feature = pd.read_csv(\"train_features.csv\", index_col=0)\n",
        "  train_label = pd.read_csv(\"train_labels.csv\", index_col=0)\n",
        "  test_feature = pd.read_csv(\"test_features.csv\", index_col=0)\n",
        "  train_feature = train_feature.to_numpy()\n",
        "  train_label = train_label.to_numpy()\n",
        "  test_feature = test_feature.to_numpy()\n",
        "  train_label = train_label.flatten()"
      ]
    },
    {
      "cell_type": "markdown",
      "metadata": {
        "id": "Y9kWDbVNmpHo"
      },
      "source": [
        "### Quantile Normalization (1.25 points)\n",
        "\n",
        "After loading the datasets, the first step is to preprocess them to ensure high-quality data (Total: 1.25 points).\n",
        "\n",
        "#### Idea Behind Quantile Normalization\n",
        "\n",
        "Quantile normalization is a standardization technique that ensures different datasets follow the same distribution. It is widely used in microarray data analysis, where the expression levels of genes are compared across different samples. The goal is to make the distributions of the datasets similar to each other.\n",
        "\n",
        "##### Key Definitions\n",
        "**Quantile Normalization**: A standardization technique that ensures different datasets follow the same distribution by:\n",
        "1. Creating a reference distribution from column means\n",
        "2. Mapping original values to this reference using ranks\n",
        "\n",
        "**Rank Definition**:\n",
        "- The position index if values were sorted in ascending order (0-based)\n",
        "- For values in a row: lowest value → rank 0, next → rank 1, etc.\n",
        "- Example: Values [3, 1, 4] → Ranks [1, 0, 2]\n",
        "\n",
        "##### Overall Steps\n",
        "Quantile normalization involves 3 steps:\n",
        "1. **Calculate Rank Matrix**: Rank each row of the input dataset (say, *X*) from lowest to highest and obtain the ranking of each value (not the ranked dataset). (0.5 points, helper function: `calculate_rank`)\n",
        "2. **Create Reference Distribution**: Create a reference distribution of the input dataset from lowest to highest, then calculate the mean value of each **column**. (0.25 points, helper function: `calculate_mean`)\n",
        "3. **Value Substitution**: For each value in the array *X* with rank *i* (obtained from the `calculate_rank` function), substitute it with `mean[i]` (where `mean` is obtained from the `calculate_mean` function). (0.25 points, helper function: `substitute_mean`)\n",
        "\n",
        "Then you will need to use these helper functions to complete the preprocessing (0.25 points, function: `quantile_normalization`).\n",
        "\n",
        "\n",
        "##### Visual Example\n",
        "Here is an example to help you understand the process:\n",
        "```python\n",
        "# Original Matrix       Rank Matrix\n",
        "[[5, 3, 7],         →  [[1, 0, 2],\n",
        " [2, 8, 4]]             [0, 2, 1]]\n",
        "\n",
        "# Original Matrix       Sorted Rows          Column Means\n",
        "[[5, 3, 7],         →  [[3, 5, 7],        → [2.5, 4.5, 7.5]\n",
        " [2, 8, 4]]             [2, 4, 8]]\n",
        "\n",
        "# Rank Matrix          Substitute Means\n",
        "[[1, 0, 2],         → [[4.5, 2.5, 7.5],\n",
        " [0, 2, 1]]            [2.5, 7.5, 4.5]]\n",
        "```\n",
        "We will provide you with step by step instructions to help you complete this section successfully.\n",
        "\n",
        "\n",
        "This section is worth a total of 1.25 points. We will check the accuracy of your code (but not vectorization), but we strongly recommend writing vectorized code here, except for the `substitute_mean` function, where you may need to use loops."
      ]
    },
    {
      "cell_type": "markdown",
      "metadata": {
        "id": "P3jBPw4XAZBp"
      },
      "source": [
        "#### Implementation Steps (1.25 points)\n",
        "\n",
        "##### Step 1: Calculate Rank Matrix (0.5 points)\n",
        "**Function**: `calculate_rank(abundance_matrix)`\n",
        "\n",
        "```python\n",
        "# Input Example:\n",
        "[[1, 3],\n",
        " [4, 2]]\n",
        "\n",
        "# What happens:\n",
        "1. Sort each row: [1,3] stays → [4,2] becomes [2,4]\n",
        "2. Assign ranks based on original positions:\n",
        "   First row ranks: 0 (value 1), 1 (value 3)\n",
        "   Second row ranks: 1 (value 4), 0 (value 2)\n",
        "\n",
        "# Output Rank Matrix:\n",
        "[[0, 1],\n",
        " [1, 0]]\n",
        "```"
      ]
    },
    {
      "cell_type": "code",
      "execution_count": 3,
      "metadata": {
        "colab": {
          "base_uri": "https://localhost:8080/"
        },
        "id": "ysGHFhp6mpHp",
        "outputId": "9612ecab-b386-4fa5-a882-34ac4f1eecee"
      },
      "outputs": [
        {
          "output_type": "stream",
          "name": "stdout",
          "text": [
            "[[1 0 2]\n",
            " [0 2 1]]\n",
            "[[0 1]\n",
            " [1 0]]\n"
          ]
        }
      ],
      "source": [
        "def calculate_rank(abundance_matrix):\n",
        "    \"\"\"\n",
        "    Calculate the rank of protein abundance for each cell.\n",
        "\n",
        "    You may consider using np.argsort https://numpy.org/doc/stable/reference/generated/numpy.argsort.html\n",
        "    Be careful! You may wish to check what argsort outputs.\n",
        "\n",
        "    Parameters:\n",
        "    abundance_matrix: A 2D numpy array of shape (num_cells, num_proteins)\n",
        "                      representing protein abundance in cells.\n",
        "\n",
        "    Returns:\n",
        "    A 2D numpy array of the same shape, containing the rank of protein abundance\n",
        "    for each cell, where the lowest abundance is ranked 0.\n",
        "    \"\"\"\n",
        "    ### Your code goes here ###\n",
        "    # print(abundance_matrix.shape)\n",
        "    rank = np.argsort(np.argsort(abundance_matrix, axis=1), axis=1)\n",
        "    # print(rank.shape)\n",
        "    # print(rank)\n",
        "    return rank\n",
        "    ### Your code ends here ###\n",
        "    # Returns: rank of protein abundance in each cells (numpy array of shape ((number of cells, number of proteins))).\n",
        "\n",
        "\n",
        "if __name__ == \"__main__\":\n",
        "    example_array = np.array([[5, 3, 7], [2, 8, 4]])\n",
        "    result = calculate_rank(abundance_matrix=example_array)\n",
        "    print(result)\n",
        "    # You are expected to get array output as below:\n",
        "    # [[1 0 2]\n",
        "    #  [0 2 1]]\n",
        "    example_array = np.array([[1, 3], [4, 2]])\n",
        "    result = calculate_rank(abundance_matrix=example_array)\n",
        "    print(result)\n",
        "    # You are expected to get array output as below:\n",
        "    # [[0 1]\n",
        "    #  [1 0]]"
      ]
    },
    {
      "cell_type": "markdown",
      "metadata": {
        "id": "QGxvbYCtAZBq"
      },
      "source": [
        "##### Step 2: Create Reference Distribution (0.25 points)\n",
        "**Function**: `calculate_mean(abundance_matrix)`\n",
        "```python\n",
        "# Input\n",
        "[[1, 3],\n",
        " [4, 2]]\n",
        "\n",
        "# (sorted rows from original matrix):\n",
        "[[1, 3],\n",
        " [2, 4]]\n",
        "\n",
        "# Process:\n",
        "1. Calculate column means:\n",
        "   Column 0: (1 + 2)/2 = 1.5\n",
        "   Column 1: (3 + 4)/2 = 3.5\n",
        "\n",
        "# Reference Distribution:\n",
        "[1.5, 3.5]\n",
        "```"
      ]
    },
    {
      "cell_type": "code",
      "execution_count": 4,
      "metadata": {
        "colab": {
          "base_uri": "https://localhost:8080/"
        },
        "id": "hLel30ClmpHp",
        "outputId": "e44e36de-3113-4956-8877-7a5ebc831707"
      },
      "outputs": [
        {
          "output_type": "stream",
          "name": "stdout",
          "text": [
            "[1.5 3.5]\n",
            "[2.5 4.5 7.5]\n"
          ]
        }
      ],
      "source": [
        "def calculate_mean(abundance_matrix):\n",
        "    \"\"\"\n",
        "    Calculate the mean abundance of each protein across all cells.\n",
        "\n",
        "    You may consider using np.mean https://numpy.org/doc/stable/reference/generated/numpy.mean.html\n",
        "    You may consider using np.sort https://numpy.org/doc/stable/reference/generated/numpy.sort.html\n",
        "\n",
        "    Parameters:\n",
        "    abundance_matrix: A 2D numpy array of shape (num_cells, num_proteins)\n",
        "                      representing protein abundance in cells.\n",
        "\n",
        "    Returns:\n",
        "    A 1D numpy array of shape (num_proteins,) containing the mean abundance.\n",
        "    \"\"\"\n",
        "    ### Your code goes here ###\n",
        "    return np.sort(abundance_matrix, axis=1).mean(axis=0)\n",
        "    ### Your code ends here ###\n",
        "\n",
        "\n",
        "if __name__ == \"__main__\":\n",
        "    example_array = np.array([[1, 3], [4, 2]])\n",
        "    result = calculate_mean(abundance_matrix=example_array)\n",
        "    print(result)\n",
        "    # You are expected to get array [1.5,3.5]\n",
        "    example_array = np.array([[5, 3, 7], [2, 8, 4]])\n",
        "    result = calculate_mean([[5, 3, 7], [2, 8, 4]])\n",
        "    print(result)\n",
        "    # You are expected to get array [2.5, 4.5, 7.5]"
      ]
    },
    {
      "cell_type": "markdown",
      "metadata": {
        "id": "PXV3xV_xAZBr"
      },
      "source": [
        "##### Step 3: Value Substitution (0.25 points)\n",
        "**Function**: `substitute_mean(X, mean_values, rank_matrix)`\n",
        "```python\n",
        "# Using previous examples: np.array([[1, 3], [4, 2]])\n",
        "Rank Matrix:\n",
        "[[0, 1],\n",
        " [1, 0]]\n",
        "\n",
        "Reference Means:\n",
        "[1.5, 3.5]\n",
        "\n",
        "# Substitution Process:\n",
        "- Value with rank 0 → 1.5\n",
        "- Value with rank 1 → 3.5\n",
        "\n",
        "# Final Output:\n",
        "[[1.5, 3.5],\n",
        " [3.5, 1.5]]\n",
        "```\n",
        "Hint: You may need to pay attention to the data type of the input matrix."
      ]
    },
    {
      "cell_type": "code",
      "execution_count": 5,
      "metadata": {
        "colab": {
          "base_uri": "https://localhost:8080/"
        },
        "id": "hf6K1d64mpHp",
        "outputId": "27229462-5583-4907-f73b-7db66443422b"
      },
      "outputs": [
        {
          "output_type": "stream",
          "name": "stdout",
          "text": [
            "[[1.5 3.5]\n",
            " [3.5 1.5]]\n"
          ]
        }
      ],
      "source": [
        "def substitute_mean(abundance_matrix, mean_values, rank_matrix):\n",
        "    \"\"\"\n",
        "    Substitute each value in the abundance matrix with the corresponding mean value based on ranks.\n",
        "\n",
        "    IMPORTANT:\n",
        "    You should NOT manipulate abundance_matrix (say, X) directly, for example, you should NOT use assignment operator (i.e. z=x and manipulate z)\n",
        "    Otherwise the input array will ALSO be modified and lead to WRONG results in OTHER tasks!\n",
        "    As a concerete example:\n",
        "    def manipulate_array(input):\n",
        "       input[0]=1\n",
        "       return input\n",
        "    test=np.array([0,1])\n",
        "    result=manipulate_array(test)\n",
        "    print(test) It will print [1,1]\n",
        "\n",
        "    You may need to use loops here.\n",
        "\n",
        "    Parameters:\n",
        "    abundance_matrix: A 2D numpy array of shape (num_cells, num_proteins)\n",
        "                      representing protein abundance in cells.\n",
        "    mean_values: A 1D numpy array of shape (num_proteins,) containing the mean abundance.\n",
        "    rank_matrix: A 2D numpy array of shape (num_cells, num_proteins) representing the ranks\n",
        "                 of protein abundances in each cell.\n",
        "\n",
        "    Returns:\n",
        "    A 2D numpy array of shape (num_cells, num_proteins) where each value has been\n",
        "    substituted by the corresponding mean value based on the rank.\n",
        "    \"\"\"\n",
        "    ### Your code goes here ###\n",
        "    substituted = np.empty(abundance_matrix.shape)\n",
        "    for i in range(abundance_matrix.shape[0]):\n",
        "        substituted[i] = mean_values[rank_matrix[i]]\n",
        "    return substituted\n",
        "    ### Your code ends here ###\n",
        "\n",
        "\n",
        "if __name__ == \"__main__\":\n",
        "    example_array = np.array([[1.0, 3], [4, 2]])\n",
        "    example_mean = np.array([1.5, 3.5])\n",
        "    example_rank = np.array([[0, 1], [1, 0]])\n",
        "    result = substitute_mean(\n",
        "        abundance_matrix=example_array, mean_values=example_mean, rank_matrix=example_rank\n",
        "    )\n",
        "    print(result)\n",
        "    # You are expected to get array [[1.5,3.5],[3.5,1.5]]"
      ]
    },
    {
      "cell_type": "markdown",
      "metadata": {
        "id": "iGLR4CmrAZBr"
      },
      "source": [
        "##### Step 4: Integration (0.25 points)\n",
        "**Function**: `quantile_normalization(abundance_matrix)`\n",
        "```python\n",
        "# Complete workflow:\n",
        "Original → Rank Matrix → Sorted Matrix → Means → Substituted\n",
        "```"
      ]
    },
    {
      "cell_type": "code",
      "execution_count": 6,
      "metadata": {
        "colab": {
          "base_uri": "https://localhost:8080/"
        },
        "id": "hGKPbLbBmpHq",
        "outputId": "3efe13cc-263a-4c8e-c550-bfb8cec4312e"
      },
      "outputs": [
        {
          "output_type": "stream",
          "name": "stdout",
          "text": [
            "[[1.5 3.5]\n",
            " [3.5 1.5]]\n"
          ]
        }
      ],
      "source": [
        "def quantile_normalization(abundance_matrix):\n",
        "    \"\"\"\n",
        "    Perform quantile normalization on a protein abundance matrix.\n",
        "\n",
        "    Parameters:\n",
        "    abundance_matrix: A 2D numpy array of shape (num_cells, num_proteins)\n",
        "                      representing protein abundance in cells.\n",
        "\n",
        "    Returns:\n",
        "    A 2D numpy array of the same shape where each value has been substituted\n",
        "    by the mean value of its corresponding rank across all cells.\n",
        "    \"\"\"\n",
        "    ### Your code goes here ###\n",
        "    rank_matrix = calculate_rank(abundance_matrix)\n",
        "    mean_values = calculate_mean(abundance_matrix)\n",
        "    return substitute_mean(abundance_matrix, mean_values, rank_matrix)\n",
        "    ### Your code ends here ###\n",
        "\n",
        "\n",
        "if __name__ == \"__main__\":\n",
        "    example_array = np.array([[1.0, 3], [4, 2]])\n",
        "    result = quantile_normalization(abundance_matrix=example_array)\n",
        "    print(result)\n",
        "    # You are expected to get array  [[1.5,3.5],[3.5,1.5]] (same as the previous code block!)"
      ]
    },
    {
      "cell_type": "markdown",
      "metadata": {
        "id": "vDcPQylZmpHq"
      },
      "source": [
        "### Z-Score Normalization (0.25 points)\n",
        "\n",
        "Following quantile normalization, it's time to perform z-score normalization.\n",
        "\n",
        "Standardize protein abundances to have **μ=0** and **σ=1** per protein (column-wise normalization).\n",
        "\n",
        "**Mathematical Formula**:\n",
        "For each value *X* in column *j*:\n",
        "```math\n",
        "Z = \\frac{X - \\mu_j}{\\sigma_j}\n",
        "```\n",
        "Where:\n",
        "- $\\mu_j$ = Mean of column *j*\n",
        "- $\\sigma_j$ = Population standard deviation of column *j*\n",
        "\n",
        "**Implementation Steps**:\n",
        "1. **Column Statistics**:\n",
        "   - Calculate $\\mu_j$ for each column\n",
        "   - Calculate $\\sigma_j$ for each column\n",
        "2. **Normalization**:\n",
        "   - Center values: Subtract column mean\n",
        "   - Scale values: Divide by column std\n",
        "\n",
        " (0.25 points, function: `z_score_normalization`)\n",
        "\n",
        "**Visual Example**:\n",
        "```python\n",
        "Original Matrix:\n",
        "[[1,  3],\n",
        " [4,  2]]\n",
        "\n",
        "Step 1: Calculate Column Statistics\n",
        "| Column | Values | Mean (μ) | Std (σ)       | Calculation            |\n",
        "|--------|--------|-----------|----------------|------------------------|\n",
        "| 0      | 1, 4   | 2.5       | √[(2.25+2.25)/2] = 1.5 |\n",
        "| 1      | 3, 2   | 2.5       | √[(0.25+0.25)/2] = 0.5 |\n",
        "\n",
        "Step 2: Apply Z-Score Formula\n",
        "[[(1-2.5)/1.5, (3-2.5)/0.5] → [-1,  1]\n",
        " [(4-2.5)/1.5, (2-2.5)/0.5] → [ 1, -1]]\n",
        "```\n",
        "\n",
        "This section is worth a total of 0.25 points. We will check the accuracy of your code, but we strongly recommend writing vectorized code here."
      ]
    },
    {
      "cell_type": "code",
      "execution_count": 7,
      "metadata": {
        "colab": {
          "base_uri": "https://localhost:8080/"
        },
        "id": "0BEKpmP7mpHq",
        "outputId": "28dbab43-7419-4678-9d0e-0c69f265f7a0"
      },
      "outputs": [
        {
          "output_type": "stream",
          "name": "stdout",
          "text": [
            "[[-1.  1.]\n",
            " [ 1. -1.]]\n"
          ]
        }
      ],
      "source": [
        "def z_score_normalization(abundance_matrix):\n",
        "    \"\"\"\n",
        "    Perform Z-score normalization on a protein abundance matrix.\n",
        "\n",
        "    You may consider using np.mean (https://numpy.org/doc/stable/reference/generated/numpy.mean.html)\n",
        "    You may consider using np.std (https://numpy.org/doc/stable/reference/generated/numpy.std.html)\n",
        "\n",
        "    Parameters:\n",
        "    abundance_matrix: A 2D numpy array of shape (num_cells, num_proteins)\n",
        "                      representing protein abundance in cells.\n",
        "\n",
        "    Returns:\n",
        "    A 2D numpy array of the same shape where each value has been normalized\n",
        "    using the Z-score formula: (X - mean) / std.\n",
        "    \"\"\"\n",
        "    ### Your code goes here ###\n",
        "    mean = np.mean(abundance_matrix, axis=0)\n",
        "    std = np.std(abundance_matrix, axis=0)\n",
        "    # print(mean, std)\n",
        "    return (abundance_matrix - mean) / std\n",
        "    ### Your code ends here ###\n",
        "\n",
        "\n",
        "if __name__ == \"__main__\":\n",
        "    example_array = np.array([[1.0, 3], [4, 2]])\n",
        "    result = z_score_normalization(abundance_matrix=example_array)\n",
        "    print(result)\n",
        "# You are expected to get [[-1,1],[1,-1]]"
      ]
    },
    {
      "cell_type": "markdown",
      "metadata": {
        "id": "2geBPqqo2cAX",
        "notebookRunGroups": {
          "groupValue": "2"
        }
      },
      "source": [
        "### Preprocess Dataset: Put them together (0.25 points)\n",
        "\n",
        "We have finished all functions needed to pre-process the dataset. Now it's time to pre-process BOTH training and testing datasets and visualize the training set.\n",
        "\n",
        "1. First apply quantile normalization to the input dataset, and\n",
        "2. then apply z_score_normalization to it\n",
        "\n",
        "(function `preprocess_datasets`, 0.25 points)."
      ]
    },
    {
      "cell_type": "code",
      "execution_count": 8,
      "metadata": {
        "colab": {
          "base_uri": "https://localhost:8080/"
        },
        "id": "3kQbUPhR2cAY",
        "outputId": "a52e7b14-2460-4fa7-c34d-31f6fc5a057e"
      },
      "outputs": [
        {
          "output_type": "stream",
          "name": "stdout",
          "text": [
            "[[-1.  1.]\n",
            " [ 1. -1.]]\n"
          ]
        }
      ],
      "source": [
        "def preprocess_datasets(abundance_matrix):\n",
        "    \"\"\"\n",
        "    Preprocess the protein abundance matrix by applying quantile normalization followed by Z-score normalization.\n",
        "\n",
        "    Parameters:\n",
        "    abundance_matrix: A 2D numpy array of shape (num_cells, num_proteins)\n",
        "                      representing protein abundance in cells.\n",
        "\n",
        "    Returns:\n",
        "    A 2D numpy array of the same shape, representing the processed dataset after\n",
        "    quantile normalization and Z-score normalization.\n",
        "    \"\"\"\n",
        "    ### Your code goes here ###\n",
        "    return z_score_normalization(quantile_normalization(abundance_matrix))\n",
        "    ### Your code ends here ###\n",
        "\n",
        "\n",
        "if __name__ == \"__main__\":\n",
        "    example_array = np.array([[1.0, 3], [4, 2]])\n",
        "    result = preprocess_datasets(abundance_matrix=example_array)\n",
        "    print(result)\n",
        "# You are expected to get [[-1,1],[1,-1]]"
      ]
    },
    {
      "cell_type": "code",
      "execution_count": 9,
      "metadata": {
        "id": "fx93UGM72cAY"
      },
      "outputs": [],
      "source": [
        "if __name__ == \"__main__\":\n",
        "    processed_train_feature = preprocess_datasets(abundance_matrix=train_feature)\n",
        "    processed_test_feature = preprocess_datasets(abundance_matrix=test_feature)"
      ]
    },
    {
      "cell_type": "markdown",
      "metadata": {
        "id": "YD2YS7lE2cAZ"
      },
      "source": [
        "### Preprocess Train and Test Labels (0.75 points)\n",
        "\n",
        "The values currently stored in the array `training_label` are strings (e.g., \"Normal\"). It is unwise to use these string values as inputs for KNN classifiers, as this complicates the code. Therefore, we will transform these string values into integers.\n",
        "\n",
        "- \"Normal\" will be mapped to 0\n",
        "- \"CancerA\" will be mapped to 1\n",
        "- \"CancerB\" will be mapped to 2\n",
        "\n",
        "You may assume that there are only these three types of cells (function: `label_to_integer`, 0.75 points).\n",
        "\n",
        "This section is worth a total of 0.75 points. The first 0.5 points will be awarded based on the accuracy of the result, while an additional 0.25 points will be awarded for vectorization (i.e., no loops).\n",
        "\n",
        "**Note:** Code that produces incorrect results will receive a score of 0 for vectorization."
      ]
    },
    {
      "cell_type": "code",
      "execution_count": 10,
      "metadata": {
        "colab": {
          "base_uri": "https://localhost:8080/"
        },
        "id": "w6gtNGRB2cAZ",
        "outputId": "988d89e6-dc56-4be5-a159-6b0165e07b75"
      },
      "outputs": [
        {
          "output_type": "stream",
          "name": "stdout",
          "text": [
            "[1 0 2]\n"
          ]
        }
      ],
      "source": [
        "def label_to_integer(label):\n",
        "    \"\"\"\n",
        "    Convert string labels to integer labels.\n",
        "\n",
        "    You may consider using np.where\n",
        "    (https://numpy.org/doc/stable/reference/generated/numpy.where.html)\n",
        "\n",
        "    Parameters:\n",
        "    labels: A 1D numpy array of shape (num_cells,) containing string labels for each cell.\n",
        "\n",
        "    Returns:\n",
        "    A 1D numpy array of the same shape, where each string label has been converted\n",
        "    to an integer: \"Normal\" -> 0, \"CancerA\" -> 1, \"CancerB\" -> 2.\n",
        "    \"\"\"\n",
        "    ### Your code goes here ###\n",
        "    normal = np.where(label == \"Normal\", 0, 0)\n",
        "    cancera = np.where(label == \"CancerA\", 1, 0)\n",
        "    cancerb = np.where(label == \"CancerB\", 2, 0)\n",
        "    return normal + cancera + cancerb\n",
        "    ### Your code ends here ###\n",
        "\n",
        "\n",
        "if __name__ == \"__main__\":\n",
        "    example_array = np.array([\"CancerA\", \"Normal\", \"CancerB\"])\n",
        "    example_array = example_array.astype(object)\n",
        "    result = label_to_integer(label=example_array)\n",
        "    print(result)\n",
        "    # You are expected to get [1,0,2]"
      ]
    },
    {
      "cell_type": "code",
      "execution_count": 11,
      "metadata": {
        "id": "kXcvC7J72cAa"
      },
      "outputs": [],
      "source": [
        "if __name__ == \"__main__\":\n",
        "    train_label = label_to_integer(label=train_label)"
      ]
    },
    {
      "cell_type": "markdown",
      "metadata": {
        "id": "jdPX66mO2cAb"
      },
      "source": [
        "### Principal Component Analysis and Visualization (1 point)\n",
        "\n",
        "After preprocessing the dataset, we'll now visualize it to gain meaningful insights. However, we face a significant challenge: our training dataset contains over 3,000 features, making direct visualization impossible. To address this, we need to employ dimension reduction techniques to transform our data into a more manageable form.\n",
        "\n",
        "To visualize the dataset in a 2D scatter plot, we must transform the array into one with shape `(number_of_cells, 2)`. Principal Component Analysis (PCA) is our chosen method for reducing the dimensions of this large dataset. While PCA is covered in linear algebra courses (MATH 2111/2121/2131), understanding its theoretical foundations isn't required for this task. Your primary responsibility is to specify the value of `component_number` based on the provided hints and scikit-learn documentation.\n",
        "\n",
        "Once you've specified the component number, you'll obtain an array called `principal_component` with shape `(number_of_cells, component_number)`. This array will be used to create a 2D scatter plot. Each row of the `principal_component` array represents the coordinates for one cell, where the first value corresponds to the x-axis value and the second value corresponds to the y-axis value. For example, if a row in `principal_component` contains [1,2], that cell will be plotted at coordinate (1,2) on the scatter plot.\n",
        "\n",
        "To distinguish between different cell types in our visualization, we'll use color coding. Each cell type `i` will be assigned a color from `color_list[i]`. The function `PCA_and_visualization` must return 4 values.\n",
        "\n",
        "### Marking Scheme\n",
        "Total score: 1.0\n",
        "- Correct component number: 0.25 points\n",
        "- Visualization coordinates:\n",
        "  - X-axis values: 0.25 points\n",
        "  - Y-axis values: 0.25 points\n",
        "- Correct color mapping: 0.25 points\n",
        "\n",
        "All points are awarded based on accuracy of implementation."
      ]
    },
    {
      "cell_type": "code",
      "execution_count": 12,
      "metadata": {
        "colab": {
          "base_uri": "https://localhost:8080/",
          "height": 484
        },
        "id": "67rzVlLJmpHq",
        "outputId": "c5da236f-9a59-4dda-b44d-7b39459c9e57"
      },
      "outputs": [
        {
          "output_type": "stream",
          "name": "stdout",
          "text": [
            "[ 0.05452972 -0.75317558 -2.1504673   2.84911316]\n",
            "[-0.34932293  0.24026348  0.02214459  0.08691486]\n",
            "['r' 'r' 'b' 'b']\n"
          ]
        },
        {
          "output_type": "display_data",
          "data": {
            "text/plain": [
              "<Figure size 640x480 with 1 Axes>"
            ],
            "image/png": "[encoded data removed]"
          },
          "metadata": {}
        }
      ],
      "source": [
        "def PCA_and_visualization(abundance_matrix, label):\n",
        "    \"\"\"\n",
        "    Perform PCA on the protein abundance matrix and visualize the results in a 2D scatter plot.\n",
        "\n",
        "    Parameters:\n",
        "    abundance_matrix: A 2D numpy array of shape (num_cells, num_proteins)\n",
        "                      representing protein abundance in cells.\n",
        "    labels: A 1D numpy array of shape (num_cells,) containing integer labels for each cell.\n",
        "\n",
        "    Returns:\n",
        "    x: The x-coordinates of the points in the scatter plot.\n",
        "    y: The y-coordinates of the points in the scatter plot.\n",
        "    colors: A list of colors corresponding to each label for visualization.\n",
        "    component_number: The number of components you have kept.\n",
        "    \"\"\"\n",
        "    \"\"\"\n",
        "    Specify the number of components you would like to keep.\n",
        "    Hint: We would need to visualize our dataset in a 2D scatter plot.\n",
        "    Hint: You may try different numbers of component number and print out the result.\n",
        "    \"\"\"\n",
        "    component_number = -1 # Note: This is a placeholder value and you need to change it in your code below.\n",
        "    ### Your code goes here ###\n",
        "    component_number = 2\n",
        "    ### Your code ends here ###\n",
        "    pca = PCA(n_components=component_number, svd_solver=\"arpack\", random_state=2)\n",
        "    principal_component = pca.fit_transform(abundance_matrix)\n",
        "    \"\"\"\n",
        "    You need to understand the meaning of input parameters x, y and c into function plt.scatter().\n",
        "    Hint: You may check document as well as usage at https://matplotlib.org/stable/api/_as_gen/matplotlib.pyplot.scatter.html\n",
        "    and https://matplotlib.org/stable/gallery/shapes_and_collections/scatter.html#sphx-glr-gallery-shapes-and-collections-scatter-py.\n",
        "    Hint: You do not need to care about inputs other than x,y and c.\n",
        "    Hint: You have obtained an array principal_component of shape (number of cells, component_number), and you would like to visualize it via a 2D scatter plot.\n",
        "    The 2 values in each row of array principal_component represent the coordinate of a point.\n",
        "    You may consider using np.where (https://numpy.org/doc/stable/reference/generated/numpy.where.html)\n",
        "    \"\"\"\n",
        "    color_list = [\"r\", \"b\", \"g\", \"c\"]\n",
        "    colors = np.zeros(len(label))\n",
        "    colors = colors.astype(\"str\")\n",
        "    ### Your code goes here ###\n",
        "    x = principal_component[:, 0]\n",
        "    # print(x)\n",
        "    y = principal_component[:, 1]\n",
        "    colors = np.where(label == 0, color_list[0], np.where(label == 1, color_list[1], np.where(label == 2, color_list[2], np.where(label == 3, color_list[3], colors))))\n",
        "    # print(colors)\n",
        "    return (x, y, colors, component_number)\n",
        "    ### Your code ends here ###\n",
        "\n",
        "\n",
        "if __name__ == \"__main__\":\n",
        "    example_array = np.array([[-1, -1, 1], [-2, -1, 1], [-3, -2, 1], [1, 1, 1]])\n",
        "    example_labels = np.array([0, 0, 1, 1])\n",
        "    example_labels = example_labels.astype(object)\n",
        "    result_x, result_y, result_colors, _ = PCA_and_visualization(\n",
        "        abundance_matrix=example_array, label=example_labels\n",
        "    )\n",
        "    print(result_x)\n",
        "    # You are expected to get [ 0.05452972 -0.75317558 -2.1504673 2.84911316]\n",
        "    print(result_y)\n",
        "    # You are expected to get [ 0.34932293 -0.24026348 -0.02214459 -0.08691486]\n",
        "    # You may also get [-0.34932293  0.24026348  0.02214459  0.08691486] check Q2.1 under FAQ on Assignment 1 page.\n",
        "    print(result_colors)\n",
        "    # You are expected to get ['r', 'r', 'b', 'b']\n",
        "    plt.scatter(x=result_x, y=result_y, c=result_colors)\n",
        "    plt.show()"
      ]
    },
    {
      "cell_type": "markdown",
      "metadata": {
        "id": "wD3_blAr2cAd"
      },
      "source": [
        "We have finished all functions needed to visualize the dataset. Now it's time to visualize the training set. As we do not have corresponding labels of testing set, we are not able to visualize it."
      ]
    },
    {
      "cell_type": "code",
      "execution_count": 13,
      "metadata": {
        "id": "u_5Ke6FkmpHr"
      },
      "outputs": [],
      "source": [
        "def visualize_processed_datasets(X, label):\n",
        "    x, y, colors, _ = PCA_and_visualization(X, label)\n",
        "    plt.scatter(x=x, y=y, c=colors)\n",
        "    plt.show()"
      ]
    },
    {
      "cell_type": "code",
      "execution_count": 14,
      "metadata": {
        "colab": {
          "base_uri": "https://localhost:8080/",
          "height": 430
        },
        "id": "D76aitDNmpHr",
        "outputId": "b2e8f18a-a9ab-49be-be47-ef1d11da9208"
      },
      "outputs": [
        {
          "output_type": "display_data",
          "data": {
            "text/plain": [
              "<Figure size 640x480 with 1 Axes>"
            ],
            "image/png": "[encoded data removed]"
          },
          "metadata": {}
        }
      ],
      "source": [
        "if __name__ == \"__main__\":\n",
        "    visualize_processed_datasets(processed_train_feature, train_label)"
      ]
    },
    {
      "cell_type": "markdown",
      "metadata": {
        "id": "nnwQP2ELmpHr"
      },
      "source": [
        "## **Section 3** KNN Classifer for Supervised Cell Type Annotation (8 Points in Total)"
      ]
    },
    {
      "cell_type": "markdown",
      "metadata": {
        "id": "7Il9Nl9G2cAe"
      },
      "source": [
        "Recall the steps of building a KNN classifier:\n",
        "\n",
        "1. Prepare training data and test data. (Finished!)\n",
        "\n",
        "2. Select a value K.\n",
        "\n",
        "3. Determine which distance function is to be used.\n",
        "\n",
        "4. Compute the distance of the new data to its n training samples.\n",
        "\n",
        "5. Sort the distances obtained and take the K-nearest data samples.\n",
        "\n",
        "6. Assign the test sample to the class based on the majority vote of its K nearest neighbors."
      ]
    },
    {
      "cell_type": "markdown",
      "metadata": {
        "id": "RCcbLuyMmpHr"
      },
      "source": [
        "### Distance Metrics in K-Nearest Neighbors (1.5 Points)\n",
        "\n",
        "K-Nearest Neighbors (KNN) is a classification algorithm that predicts a test sample's class based on its proximity to labeled training samples. The algorithm examines the **\"distance\"** between the test sample's features and those of the training samples, ultimately assigning the class that appears most frequently among the K nearest neighbors.\n",
        "\n",
        "For this implementation, we need to calculate distances between feature vectors. You'll implement two fundamental distance metrics: Manhattan Distance and Euclidean Distance. These functions will compute distances between each point in the testing dataset and every point in the training dataset.\n",
        "\n",
        "The Manhattan Distance, also known as L1 norm or city block distance, measures the sum of absolute differences between coordinates:\n",
        "\n",
        "$\\displaystyle d(X, Y) = \\sum_{i=1}^{n} | x_i - y_i |$\n",
        "\n",
        "The Euclidean Distance, also known as L2 norm, measures the straight-line distance between two points in n-dimensional space:\n",
        "\n",
        "$\\displaystyle d(X, Y) =\\sqrt{\\sum_{i=1}^{n} | x_i - y_i |^2}$\n",
        "\n",
        "#### Marking Scheme\n",
        "Each distance function implementation is worth 0.75 points, divided as follows:\n",
        "- Accuracy of implementation: 0.5 points\n",
        "- Efficient vectorization: 0.25 points\n",
        "\n",
        "Total points available: 1.5 points (0.75 × 2)"
      ]
    },
    {
      "cell_type": "code",
      "execution_count": 15,
      "metadata": {
        "colab": {
          "base_uri": "https://localhost:8080/"
        },
        "id": "jmHbW79mmpHr",
        "outputId": "e34b9480-987d-40f0-d009-e6417b9e7f42"
      },
      "outputs": [
        {
          "output_type": "stream",
          "name": "stdout",
          "text": [
            "[[0 4]\n",
            " [4 0]]\n",
            "[[0.         2.82842712]\n",
            " [2.82842712 0.        ]]\n"
          ]
        }
      ],
      "source": [
        "def calculate_manhattan_distance(feature_train, feature_test):\n",
        "    \"\"\"\n",
        "    Calculate the Manhattan distance between training and testing feature matrices.\n",
        "\n",
        "    You may consider using np.expand_dims https://numpy.org/doc/stable/reference/generated/numpy.expand_dims.html\n",
        "    You may consider using np.sum https://numpy.org/doc/stable/reference/generated/numpy.sum.html\n",
        "    You may consider using np.abs https://numpy.org/doc/stable/reference/generated/numpy.abs.html\n",
        "\n",
        "    Parameters:\n",
        "    feature_train: A 2D numpy array of shape (num_cells_train, num_proteins)\n",
        "                   representing protein abundance in the training set.\n",
        "    feature_test: A 2D numpy array of shape (num_cells_test, num_proteins)\n",
        "                  representing protein abundance in the testing set.\n",
        "\n",
        "    Returns:\n",
        "    A 2D numpy array of shape (num_cells_test, num_cells_train) representing the\n",
        "    Manhattan distance between each test cell and each train cell.\n",
        "    \"\"\"\n",
        "    ### Your code goes here ###\n",
        "    train_expanded = np.expand_dims(feature_train, 0)\n",
        "    test_expanded = np.expand_dims(feature_test, 1)\n",
        "    return np.sum(np.abs(test_expanded - train_expanded), axis=2)\n",
        "    ### Your code ends here ###\n",
        "\n",
        "\n",
        "def calculate_euclidean_distance(feature_train, feature_test):\n",
        "    \"\"\"\n",
        "    Calculate the Euclidean distance between training and testing feature matrices.\n",
        "\n",
        "    You may consider using np.expand_dims https://numpy.org/doc/stable/reference/generated/numpy.expand_dims.html\n",
        "    You may consider using np.sum https://numpy.org/doc/stable/reference/generated/numpy.sum.html\n",
        "    You may consider using np.sqrt https://numpy.org/doc/stable/reference/generated/numpy.sqrt.html\n",
        "    You may consider using np.square https://numpy.org/doc/stable/reference/generated/numpy.square.html\n",
        "\n",
        "    Parameters:\n",
        "    feature_train: A 2D numpy array of shape (num_cells_train, num_proteins)\n",
        "                   representing protein abundance in the training set.\n",
        "    feature_test: A 2D numpy array of shape (num_cells_test, num_proteins)\n",
        "                  representing protein abundance in the testing set.\n",
        "\n",
        "    Returns:\n",
        "    A 2D numpy array of shape (num_cells_test, num_cells_train) representing the\n",
        "    Euclidean distance between each test cell and each train cell.\n",
        "    \"\"\"\n",
        "    ### Your code goes here ###\n",
        "    train_expanded = np.expand_dims(feature_train, 0)\n",
        "    test_expanded = np.expand_dims(feature_test, 1)\n",
        "    return np.sqrt(np.sum(np.square(test_expanded - train_expanded), axis=2))\n",
        "    ### Your code ends here ###\n",
        "\n",
        "\n",
        "if __name__ == \"__main__\":\n",
        "    example_train = np.array([[1, 2], [3, 4]])\n",
        "    example_test = np.array([[1, 2], [3, 4]])\n",
        "    result_manhattan = calculate_manhattan_distance(\n",
        "        feature_train=example_train, feature_test=example_test\n",
        "    )\n",
        "    print(result_manhattan)\n",
        "    # You are expected to get [[0,4],[4,0]]\n",
        "    result_euclidean = calculate_euclidean_distance(\n",
        "        feature_train=example_train, feature_test=example_test\n",
        "    )\n",
        "    print(result_euclidean)\n",
        "    # You are expected to get [[0,2.82842712],[2.8242712,0]]"
      ]
    },
    {
      "cell_type": "markdown",
      "metadata": {
        "id": "JSV1HgxqmpHs"
      },
      "source": [
        "### Selection of K-Nearest Neighbors (1 Point)\n",
        "\n",
        "In K-Nearest Neighbors classification, only the k closest training samples influence the prediction of a test sample's label. Your task is to implement a function that identifies these crucial neighbors using either Manhattan or Euclidean distance metrics.\n",
        "\n",
        "For each test sample, the function `choose_nearest_neighbors` must determine two key pieces of information:\n",
        "1. The distances to the k nearest training samples, arranged in ascending order (`distance_k`)\n",
        "2. The corresponding labels of these k nearest neighbors, maintaining the same sequence as their distances (`top_k_label`)\n",
        "\n",
        "For example, if `distance_k[i]` contains the three smallest distances [0.1, 0.2, 0.3] for test sample i, then `top_k_label[i]` should contain the labels of the training samples at these respective distances.\n",
        "\n",
        "#### Marking Scheme\n",
        "Total score: 1.0\n",
        "- Accuracy (0.5 points):\n",
        "  - Both `distance_k` and `top_k_label` must be completely correct\n",
        "  - No partial credit for partially correct implementations\n",
        "- Efficient vectorization (0.5 points):\n",
        "  - Implementation must avoid unnecessary loops and utilize vectorized operations\n",
        "\n",
        "Note: The accuracy component requires both outputs to be correct; partial credit will not be awarded for correctly implementing only one of the required outputs."
      ]
    },
    {
      "cell_type": "code",
      "execution_count": 16,
      "metadata": {
        "colab": {
          "base_uri": "https://localhost:8080/"
        },
        "id": "K4EWoGJkmpHs",
        "outputId": "7eef04c7-1431-42a3-f873-fef6f38f3529"
      },
      "outputs": [
        {
          "output_type": "stream",
          "name": "stdout",
          "text": [
            "[[0]\n",
            " [0]]\n",
            "[[0]\n",
            " [1]]\n"
          ]
        }
      ],
      "source": [
        "def choose_nearest_neighbors(k, distance_metric, feature_train, feature_test, labels):\n",
        "    \"\"\"\n",
        "    Choose the k nearest neighbors for each test cell based on the specified distance metric.\n",
        "\n",
        "    You may consider using np.argsort https://numpy.org/doc/stable/reference/generated/numpy.argsort.html\n",
        "    You may consider using np.sort https://numpy.org/doc/stable/reference/generated/numpy.sort.html\n",
        "    You may consider using np.take https://numpy.org/doc/stable/reference/generated/numpy.take.html\n",
        "\n",
        "    Parameters:\n",
        "    k: The number of nearest neighbors (integer).\n",
        "    distance_metric: A string that can be either 'manhattan' or 'euclidean' indicating which distance metric to be used.\n",
        "    feature_train: A 2D numpy array of shape (num_cells_train, num_proteins) representing protein abundance in the training set.\n",
        "    feature_test: A 2D numpy array of shape (num_cells_test, num_proteins) representing protein abundance in the testing set.\n",
        "    labels: A 1D numpy array of shape (num_cells_train,) containing labels of each cell in the training set.\n",
        "\n",
        "    Returns:\n",
        "    distance_k: A 2D numpy array of shape (num_cells_test, k) containing distances to the k nearest neighbors.\n",
        "    top_k_labels: A 2D numpy array of shape (num_cells_test, k) containing labels of the k nearest neighbors.\n",
        "    \"\"\"\n",
        "    ### Your code goes here ###\n",
        "    distances = calculate_manhattan_distance(feature_train, feature_test) if distance_metric == \"manhattan\" else calculate_euclidean_distance(feature_train, feature_test)\n",
        "    # print(distances)\n",
        "    sort_index = np.argsort(distances, axis=1)\n",
        "    # print(sort_index)\n",
        "    distance_k = np.sort(distances)[:, :k]\n",
        "    top_k_labels = np.take(labels, sort_index[:, :k])\n",
        "    return (distance_k, top_k_labels)\n",
        "    ### Your code ends here ###\n",
        "\n",
        "\n",
        "if __name__ == \"__main__\":\n",
        "    example_train = np.array([[1, 2], [3, 4]])\n",
        "    example_test = np.array([[1, 2], [3, 4]])\n",
        "    example_distance = \"manhattan\"\n",
        "    example_labels = np.array([0, 1])\n",
        "    result_distance, result_label = choose_nearest_neighbors(\n",
        "        k=1,\n",
        "        distance_metric=example_distance,\n",
        "        feature_train=example_train,\n",
        "        feature_test=example_test,\n",
        "        labels=example_labels,\n",
        "    )\n",
        "    print(result_distance)\n",
        "    # You are expected to get [[0],[0]]\n",
        "    print(result_label)\n",
        "    # You are expected to get [[0],[1]]"
      ]
    },
    {
      "cell_type": "markdown",
      "metadata": {
        "id": "dd2Aqg4E2cAh"
      },
      "source": [
        "### Counting Class Distribution Among K-Nearest Neighbors (1 Point)\n",
        "\n",
        "Once we have identified the k-nearest neighbors for each test sample, we need to analyze the distribution of classes among these neighbors. This step is crucial for making the final classification decision, as it reveals which class labels appear most frequently among the nearest neighbors.\n",
        "\n",
        "Your task is to implement a function that counts how many neighbors belong to each possible class. For implementation purposes, you can rely on the fact that `top_k_labels` contains a comprehensive representation of all possible class labels in the dataset.\n",
        "\n",
        "#### Marking Scheme\n",
        "Total score: 1.0\n",
        "- Accuracy (0.5 points):\n",
        "  - Correct counting of class occurrences among k-nearest neighbors\n",
        "- Efficient vectorization (0.5 points):\n",
        "  - Implementation should utilize vectorized operations for optimal performance\n",
        "  - Avoid explicit loops where possible"
      ]
    },
    {
      "cell_type": "code",
      "execution_count": 17,
      "metadata": {
        "colab": {
          "base_uri": "https://localhost:8080/"
        },
        "id": "WqflYJZX2cAi",
        "outputId": "c6a19170-04e8-4083-83d6-22a6d0a95b64"
      },
      "outputs": [
        {
          "output_type": "stream",
          "name": "stdout",
          "text": [
            "[[2 1 0 1]\n",
            " [2 1 1 0]]\n"
          ]
        }
      ],
      "source": [
        "def count_neighbor_class(top_k_labels):\n",
        "    \"\"\"\n",
        "    Count the number of neighbors of each class among the k nearest neighbors for each test cell.\n",
        "\n",
        "    You may consider using np.expand_dims https://numpy.org/doc/stable/reference/generated/numpy.expand_dims.html\n",
        "    You may consider using np.sum https://numpy.org/doc/stable/reference/generated/numpy.sum.html\n",
        "    You may consider using np.arange https://numpy.org/doc/stable/reference/generated/numpy.arange.html\n",
        "\n",
        "    Parameters:\n",
        "    top_k_labels: A 2D numpy array of shape (num_cells_test, k) containing labels of the k nearest neighbors.\n",
        "\n",
        "    Returns:\n",
        "    class_count: A 2D numpy array of shape (num_cells_test, num_classes) representing the count of each class\n",
        "                 among the k nearest neighbors for each test cell.\n",
        "    \"\"\"\n",
        "    ### Your code goes here ###\n",
        "    # (2,1,4)   (1,3,1)   =   (2,3)\n",
        "    top_k_labels_expanded = np.expand_dims(top_k_labels, 1)\n",
        "    # print(top_k_labels_expanded.shape)\n",
        "    classes = np.reshape(np.arange(np.max(top_k_labels)+1), (1, -1, 1))\n",
        "    # print(classes.shape)\n",
        "    return np.sum(top_k_labels_expanded == classes, axis=2)\n",
        "    ### Your code ends here ###\n",
        "\n",
        "\n",
        "if __name__ == \"__main__\":\n",
        "    example_labels = np.array([[0, 0, 1, 3], [0, 0, 1, 2]])\n",
        "    result = count_neighbor_class(top_k_labels=example_labels)\n",
        "    print(result)\n",
        "    # You are expected to get [[2,1,0,1],[2,1,1,0]]."
      ]
    },
    {
      "cell_type": "markdown",
      "metadata": {
        "id": "Vd8YW87WmpHs"
      },
      "source": [
        "### Label Prediction with K-Nearest Neighbors (0.5 Points)\n",
        "\n",
        "For this initial implementation of label prediction, we'll work under a simplified assumption: there will be no ties in class voting. In other words, when counting the occurrences of different classes among the k-nearest neighbors, no two classes will have the same number of votes. This assumption eliminates the need for tie-breaking mechanisms and allows us to focus on the core prediction logic.\n",
        "\n",
        "Your task is to implement the `predict_labels` function, which will determine the predicted class for each test sample based on its k-nearest neighbors. The prediction should be made by selecting the class that appears most frequently among the nearest neighbors.\n",
        "\n",
        "Note: This implementation serves as a stepping stone and will be used for partial credit evaluation only. The predictions from this function will not be utilized in subsequent parts of the programming assignment, where we'll address more complex scenarios including potential ties.\n",
        "\n",
        "#### Marking Scheme\n",
        "Total score: 0.5\n",
        "- Accuracy (0.5 points):\n",
        "  - Correct prediction of labels based on majority voting\n",
        "  - Implementation must handle the no-ties assumption correctly"
      ]
    },
    {
      "cell_type": "code",
      "execution_count": 18,
      "metadata": {
        "colab": {
          "base_uri": "https://localhost:8080/"
        },
        "id": "OFJKxNpBmpHs",
        "outputId": "8614999f-e455-4d0e-f29f-089b8f31bda9"
      },
      "outputs": [
        {
          "output_type": "stream",
          "name": "stdout",
          "text": [
            "[0 0]\n"
          ]
        }
      ],
      "source": [
        "def predict_labels(class_count):\n",
        "    \"\"\"\n",
        "    Predict the label for each test cell based on the class counts of the k nearest neighbors.\n",
        "\n",
        "    You may consider using np.argmax https://numpy.org/doc/stable/reference/generated/numpy.argmax.html\n",
        "\n",
        "    Parameters:\n",
        "    class_count: A 2D numpy array of shape (num_cells_test, num_classes) representing the number of\n",
        "                 data points belonging to each class among the k nearest neighbors.\n",
        "\n",
        "    Returns:\n",
        "    predicted_labels: A 1D numpy array of shape (num_cells_test,) containing the predicted label\n",
        "                      for each test cell.\n",
        "    \"\"\"\n",
        "    ### Your code goes here ###\n",
        "    return np.argmax(class_count, axis=1)\n",
        "    ### Your code ends here ###\n",
        "\n",
        "\n",
        "if __name__ == \"__main__\":\n",
        "    example_count = np.array([[2, 1, 0, 1], [2, 1, 1, 0]])\n",
        "    result = predict_labels(class_count=example_count)\n",
        "    print(result)\n",
        "    # You are expected to get [0,0]"
      ]
    },
    {
      "cell_type": "markdown",
      "metadata": {
        "id": "UHA696XTmpHs"
      },
      "source": [
        "### K-Nearest Neighbors with Tie Breaking (4 Points)\n",
        "\n",
        "During KNN classification, ties occur when multiple classes share the highest vote count among k nearest neighbors. For example, with 5 nearest neighbors having labels `[1, 1, 2, 2, 3]`, Classes 1 and 2 are tied with 2 votes each. In such cases, we need a tie-breaking mechanism.\n",
        "\n",
        "#### Inverse Distance Weighting\n",
        "To resolve ties, we use inverse distance weighting, which gives more influence to closer neighbors:\n",
        "\n",
        "1. Calculate inverse distance (1/distance) for each neighbor\n",
        "2. For tied classes only, sum their respective inverse distances\n",
        "3. Select the tied class with the highest inverse distance sum\n",
        "\n",
        "**Key Assumptions:**\n",
        "- No ties in distance values\n",
        "- All distances are non-zero\n",
        "- Only tied classes are considered for the final prediction\n",
        "\n",
        "**Example 1: With Tie**\n",
        "```\n",
        "neighbors = [1, 1, 2, 2, 3]         # Tie between Class 1 and 2\n",
        "distances = [5, 6, 7, 8, 10]\n",
        "inv_distances = [0.2, 0.167, 0.143, 0.125, 0.1]\n",
        "\n",
        "Weights: Class 1 = 0.367, Class 2 = 0.268\n",
        "Prediction: Class 1 (highest weight among tied classes)\n",
        "```\n",
        "\n",
        "**Example 2: No Tie**\n",
        "```\n",
        "neighbors = [1, 1, 1, 2, 3]         # Class 1 has majority\n",
        "distances = [5, 6, 7, 1, 10]\n",
        "\n",
        "Prediction: Class 1 (majority rule, no tie-breaking needed)\n",
        "Even if Class 2's inverse distance weight is larger\n",
        "```"
      ]
    },
    {
      "cell_type": "markdown",
      "metadata": {
        "id": "Hb-znGUT2cAk"
      },
      "source": [
        "#### Implementation Strategy (3 Points)\n",
        "To manage complexity, we break down the tie-breaking implementation into three key components:\n",
        "\n",
        "1. **Maximum Voter Identification** (0.5 points)\n",
        "   - Function: `get_max_voter`\n",
        "   - Purpose: Create a binary mask indicating which classes receive the maximum number of votes for each test sample\n",
        "   - Input: Vote counts for each class\n",
        "   - Output: Binary array where 1 indicates a class received maximum votes\n",
        "   - Allow multiple classes to be marked as maximum voters when tied\n",
        "\n",
        "2. **Label Masking** (1.0 point)\n",
        "   - Function: `useful_labels`\n",
        "   - Purpose: Create a 3D mask identifying which neighbors belong to maximum-voting classes\n",
        "   - Input: Maximum voter mask and k-nearest neighbor labels\n",
        "   - Output: 3D binary array marking relevant neighbor-class combinations\n",
        "   - Essential for focusing inverse distance calculations on relevant classes only. This can help you implement a vectorized solution\n",
        "\n",
        "3. **Distance-Weighted Prediction** (1.5 points)\n",
        "   - Function: `predict`\n",
        "   - Purpose: Generate final predictions using inverse distance weighting\n",
        "   - Input: K-nearest neighbor distances and useful labels mask\n",
        "   - Output: Predicted class for each test sample\n",
        "   - Automatically handles both tie and no-tie cases through the useful labels mask\n",
        "\n",
        "You may assume that each label in the training set will be the max voter at least once in the testing set."
      ]
    },
    {
      "cell_type": "code",
      "execution_count": 19,
      "metadata": {
        "colab": {
          "base_uri": "https://localhost:8080/"
        },
        "id": "QPzqv-2k2cAl",
        "outputId": "4c4e5eab-b5fb-4ac2-ac5e-4eb7ed2764ee"
      },
      "outputs": [
        {
          "output_type": "stream",
          "name": "stdout",
          "text": [
            "[[1 1 0]\n",
            " [1 0 0]]\n"
          ]
        }
      ],
      "source": [
        "def get_max_voter(class_count):\n",
        "    \"\"\"\n",
        "    Determine which classes are the max voters among the k nearest neighbors for each test cell.\n",
        "\n",
        "    You may consider using np.expand_dims https://numpy.org/doc/stable/reference/generated/numpy.expand_dims.html\n",
        "    You may consider using np.max https://numpy.org/doc/stable/reference/generated/numpy.max.html\n",
        "\n",
        "    Parameters:\n",
        "    class_count: A 2D numpy array of shape (num_cells_test, num_classes) representing the number of\n",
        "                 data points belonging to each class among the k nearest neighbors.\n",
        "\n",
        "    Returns:\n",
        "    max_voter: A 2D numpy array of shape (num_cells_test, num_classes) where max_voter[j][i] = 1\n",
        "               if class i is a max voter for test point j, otherwise 0.\n",
        "    \"\"\"\n",
        "    ### Your code goes here ###\n",
        "    return np.where(class_count == np.expand_dims(np.max(class_count, axis=1), axis=1), 1, 0)\n",
        "    ### Your code ends here ###\n",
        "\n",
        "\n",
        "if __name__ == \"__main__\":\n",
        "    example_count = np.array([[1, 1, 0], [2, 0, 0]])\n",
        "    result = get_max_voter(class_count=example_count)\n",
        "    print(result)\n",
        "    # You are expected to get [[1,1,0],[1,0,0]]"
      ]
    },
    {
      "cell_type": "code",
      "execution_count": 20,
      "metadata": {
        "colab": {
          "base_uri": "https://localhost:8080/"
        },
        "id": "pRoY9n4M2cAl",
        "outputId": "91f07f9d-be57-4564-a866-359e27729243"
      },
      "outputs": [
        {
          "output_type": "stream",
          "name": "stdout",
          "text": [
            "[[[1 0]\n",
            "  [0 1]]\n",
            "\n",
            " [[1 1]\n",
            "  [0 0]]]\n"
          ]
        }
      ],
      "source": [
        "def get_useful_labels(max_voter, top_k_labels):\n",
        "    \"\"\"\n",
        "    Determine useful labels based on max voters and the labels of k nearest neighbors.\n",
        "\n",
        "    You may consider using np.expand_dims https://numpy.org/doc/stable/reference/generated/numpy.expand_dims.html\n",
        "    You may consider using np.max https://numpy.org/doc/stable/reference/generated/numpy.max.html\n",
        "    You may consider using np.arange https://numpy.org/doc/stable/reference/generated/numpy.arange.html\n",
        "\n",
        "    Parameters:\n",
        "    max_voter: A 2D numpy array of shape (num_cells_test, num_classes) where max_voter[j][i] = 1\n",
        "               if class i is a max voter for test point j, otherwise 0.\n",
        "    top_k_labels: A 2D numpy array of shape (num_cells_test, k) containing labels of the k nearest neighbors.\n",
        "\n",
        "    Returns:\n",
        "    useful_labels: A 3D numpy array of shape (num_cells_test, num_classes, k) where useful_labels[m][n][l] = 1\n",
        "                   if the l-th neighbor of the m-th test point belongs to class n and class n is a max voter\n",
        "                   for the m-th test point, otherwise 0.\n",
        "    \"\"\"\n",
        "    ### Your code goes here ###\n",
        "    # (2,3) (1,3) -> (2,3,1)   & ((2,1,5) == (1,3,1)) -> (2,3,5)\n",
        "    max_voter_exp = np.expand_dims(max_voter, 2)\n",
        "    top_k_labels_exp = np.expand_dims(top_k_labels, 1)\n",
        "    class_mask = np.reshape(np.arange(max_voter.shape[1]), (1, -1, 1))\n",
        "    return max_voter_exp * (top_k_labels_exp == class_mask)\n",
        "    ### Your code ends here ###\n",
        "\n",
        "\n",
        "if __name__ == \"__main__\":\n",
        "    example_voter = np.array([[1, 1], [1, 0]])\n",
        "    example_labels = np.array([[0, 1], [0, 0]])\n",
        "    result = get_useful_labels(max_voter=example_voter, top_k_labels=example_labels)\n",
        "    print(result)\n",
        "    # You are expected to get [[[1,0],[0,1]],[[1,1],[0,0]]]"
      ]
    },
    {
      "cell_type": "code",
      "execution_count": 21,
      "metadata": {
        "colab": {
          "base_uri": "https://localhost:8080/"
        },
        "id": "Q0gHPsvempHs",
        "outputId": "1440cd02-b605-4678-f92a-58e3b789cb16"
      },
      "outputs": [
        {
          "output_type": "stream",
          "name": "stdout",
          "text": [
            "[0 0]\n"
          ]
        }
      ],
      "source": [
        "def predict(distance_k, useful_labels):\n",
        "    \"\"\"\n",
        "    Predict the label for each test cell based on inverse distances and useful labels.\n",
        "\n",
        "    You may consider using np.expand_dims https://numpy.org/doc/stable/reference/generated/numpy.expand_dims.html\n",
        "    You may consider using np.sum https://numpy.org/doc/stable/reference/generated/numpy.sum.html\n",
        "    You may consider using np.argmax https://numpy.org/doc/stable/reference/generated/numpy.argmax.html\n",
        "\n",
        "    Parameters:\n",
        "    distance_k: A 2D numpy array of shape (num_cells_test, k) containing distances to the k nearest neighbors.\n",
        "    useful_labels: A 3D numpy array of shape (num_cells_test, num_classes, k) indicating whether\n",
        "                   the l-th neighbor of the m-th test point belongs to class n and is a max voter.\n",
        "\n",
        "    Returns:\n",
        "    prediction: A 1D numpy array of shape (num_cells_test,) containing the predicted label for each test cell.\n",
        "    \"\"\"\n",
        "    ### Your code goes here ###\n",
        "    # (2,1,5) * (2,3,5) sum(2) -> (2,3) -> (1,2)\n",
        "    inverse_distance_k = np.expand_dims(1 / distance_k, 1)\n",
        "    # print(inverse_distance_k.shape, useful_labels.shape)\n",
        "    class_inverse_distance = np.sum(inverse_distance_k * useful_labels, axis=2)\n",
        "    # print(class_inverse_distance.shape)\n",
        "    return np.argmax(class_inverse_distance, axis=1)\n",
        "    ### Your code ends here ###\n",
        "\n",
        "\n",
        "if __name__ == \"__main__\":\n",
        "    example_distance = np.array([[1, 2], [1, 100]])\n",
        "    example_labels = np.array([[[1, 0], [0, 1]], [[1, 1], [0, 0]]])\n",
        "    result = predict(distance_k=example_distance, useful_labels=example_labels)\n",
        "    print(result)\n",
        "    # You are expected to get [0,0]"
      ]
    },
    {
      "cell_type": "markdown",
      "metadata": {
        "id": "8yQ0WgqJmpHs"
      },
      "source": [
        "#### KNN Classifier Integration (0.5 Points)\n",
        "\n",
        "Now we would like to combine all helper functions above, so that this function takes in training and testing dataset and outputs the prediction (function `KNN`, 0.5 points)\n",
        "\n",
        "Note that you should not utilize function `initial_vote` here."
      ]
    },
    {
      "cell_type": "code",
      "execution_count": 22,
      "metadata": {
        "colab": {
          "base_uri": "https://localhost:8080/"
        },
        "id": "YEPUH9ZvmpHs",
        "outputId": "36406268-379a-4469-9d83-9752eb035bd3"
      },
      "outputs": [
        {
          "output_type": "stream",
          "name": "stdout",
          "text": [
            "[0 1]\n"
          ]
        }
      ],
      "source": [
        "def KNN(k, distance_metric, feature_train, feature_test, labels):\n",
        "    \"\"\"\n",
        "    Perform k-Nearest Neighbors classification.\n",
        "\n",
        "    Parameters:\n",
        "    k: The number of nearest neighbors (integer).\n",
        "    distance_metric: A string that can be either 'euclidean' or 'manhattan' indicating which distance metric to be used.\n",
        "    feature_train: A 2D numpy array of shape (num_cells_train, num_proteins) representing protein abundance in the training set.\n",
        "    feature_test: A 2D numpy array of shape (num_cells_test, num_proteins) representing protein abundance in the testing set.\n",
        "    labels: A 1D numpy array of shape (num_cells_train,) containing labels of each cell in the training set.\n",
        "\n",
        "    Returns:\n",
        "    prediction: A 1D numpy array of shape (num_cells_test,) containing the predicted label for each test cell.\n",
        "    \"\"\"\n",
        "    ### Your code goes here ###\n",
        "    distance_k, top_k_labels = choose_nearest_neighbors(k, distance_metric, feature_train, feature_test, labels)\n",
        "    class_count = count_neighbor_class(top_k_labels)\n",
        "    return predict(distance_k, get_useful_labels(get_max_voter(class_count), top_k_labels))\n",
        "    ### Your code ends here ###\n",
        "\n",
        "\n",
        "if __name__ == \"__main__\":\n",
        "    example_k = 1\n",
        "    example_train = np.array([[1, 2], [3, 4]])\n",
        "    example_test = np.array([[1, 3], [3, 5]])\n",
        "    example_distance = \"manhattan\"\n",
        "    example_labels = [0, 1]\n",
        "    result = KNN(\n",
        "        k=example_k,\n",
        "        distance_metric=example_distance,\n",
        "        feature_train=example_train,\n",
        "        feature_test=example_test,\n",
        "        labels=example_labels,\n",
        "    )\n",
        "    print(result)\n",
        "    # You are expected to get [0,1]"
      ]
    },
    {
      "cell_type": "markdown",
      "metadata": {
        "id": "zKrB_aLimpHt"
      },
      "source": [
        "#### Accuracy of KNN Classifier (0.5 Points)\n",
        "\n",
        "Now it is time to evaluate the classifier you made.\n",
        "\n",
        "Calculate the accuracy of the prediction, as the percentage of labells predicted correctly.(function `accuracy`, 0.5)"
      ]
    },
    {
      "cell_type": "code",
      "execution_count": 23,
      "metadata": {
        "colab": {
          "base_uri": "https://localhost:8080/"
        },
        "id": "BwmEj_6smpHt",
        "outputId": "493ce723-5696-4911-e147-2cb5907225e6"
      },
      "outputs": [
        {
          "output_type": "stream",
          "name": "stdout",
          "text": [
            "0.5\n"
          ]
        }
      ],
      "source": [
        "def get_accuracy(prediction, ground_truth):\n",
        "    \"\"\"\n",
        "    Calculate the accuracy of the KNN classifier.\n",
        "\n",
        "    You may consider using np.sum https://numpy.org/doc/stable/reference/generated/numpy.sum.html\n",
        "    You may consider using array.size https://numpy.org/doc/stable/reference/generated/numpy.ndarray.size.html\n",
        "\n",
        "    Parameters:\n",
        "    prediction: A 1D numpy array of shape (num_cells_test,) containing predicted labels for each test cell.\n",
        "    ground_truth: A 1D numpy array of shape (num_cells_test,) containing the true labels for each test cell.\n",
        "\n",
        "    Returns:\n",
        "    accuracy: A float representing the accuracy of the KNN classifier (between 0 and 1).\n",
        "    \"\"\"\n",
        "    ### Your code goes here ###\n",
        "    return np.mean(prediction == ground_truth)\n",
        "    ### Your code ends here ###\n",
        "\n",
        "\n",
        "if __name__ == \"__main__\":\n",
        "    example_prediction = np.array([1, 2, 1, 2])\n",
        "    example_truth = np.array([1, 1, 1, 1])\n",
        "    result = get_accuracy(prediction=example_prediction, ground_truth=example_truth)\n",
        "    print(result)\n",
        "    # You are expected to get 0.5"
      ]
    },
    {
      "cell_type": "code",
      "execution_count": 24,
      "metadata": {
        "colab": {
          "base_uri": "https://localhost:8080/"
        },
        "id": "ZizwRGlEmpHt",
        "outputId": "979cc1fb-b2f4-4679-e03a-9289156d1b80"
      },
      "outputs": [
        {
          "output_type": "stream",
          "name": "stdout",
          "text": [
            "1.0\n"
          ]
        }
      ],
      "source": [
        "if __name__ == \"__main__\":\n",
        "    result = KNN(\n",
        "        k=5,\n",
        "        distance_metric=\"euclidean\",\n",
        "        feature_train=processed_train_feature,\n",
        "        feature_test=processed_test_feature,\n",
        "        labels=train_label,\n",
        "    )\n",
        "    test_label = pd.read_csv(\"test_labels.csv\", index_col=0)\n",
        "    test_label = test_label.to_numpy()\n",
        "    test_label = test_label.flatten()\n",
        "    test_label = label_to_integer(test_label)\n",
        "    accuracy = get_accuracy(result, test_label)\n",
        "    print(accuracy)\n",
        "# You are expected to get 1"
      ]
    },
    {
      "cell_type": "markdown",
      "metadata": {
        "id": "R8dPqAOAmpHt"
      },
      "source": [
        "## **Section 4** K-means Clustering for Unsupervised Cell Type Annotation (3.5 Points In Total)"
      ]
    },
    {
      "cell_type": "markdown",
      "metadata": {
        "id": "Y2po-qNa2cA3"
      },
      "source": [
        "Recall the steps when applying K-means algorithm:\n",
        "\n",
        "* 1. Choose K (random) data points (seeds) to be the initial centroids (cluster centers)\n",
        "\n",
        "* 2. Find the distances between each data point in our training set with the K centroids (This has been done in the previous KNN part)\n",
        "\n",
        "* 3. Assign each data point to the closest centroid according to the distance found\n",
        "\n",
        "* 4. Re-compute the centroids using the current cluster memberships\n",
        "\n",
        "* 5. If a convergence criterion is NOT met, repeat steps 2 to 4\n",
        "\n"
      ]
    },
    {
      "cell_type": "markdown",
      "metadata": {
        "id": "dBt_jSWvmpHt"
      },
      "source": [
        "Inspired by an article published in Nature (https://www.nature.com/articles/nature14966), we will implement a simplified version of the Bisecting K-Means algorithm, which is also a part of TensorFlow (class: `sklearn.cluster.BisectingKMeans`).\n",
        "\n",
        "**Note:** You should NOT attempt to copy the code from TensorFlow, as the following implementation will definitely differ from that.\n",
        "\n",
        "We aim to group cells into several clusters when a training set with corresponding labels is not available. Instead of starting with *k* clusters as in the traditional k-means algorithm, we will gradually increase the number of clusters: a cluster is split into two new clusters repeatedly until the target number of clusters is reached.\n",
        "\n",
        "This approach is quite intuitive. First, we will group all the cells into 2 clusters, with one cluster containing cancerous cells and the other containing non-cancerous cells. Afterwards, we will further divide the cancer cells and non-cancer cells into subclusters."
      ]
    },
    {
      "cell_type": "markdown",
      "metadata": {
        "id": "AKE8QRswmpHu"
      },
      "source": [
        "### Initialization of Centroids (0.5 Points)\n",
        "\n",
        "In k-means clustering algorithm, the very first task is to initialize centroids. k Initialized centroids shall be any k points in the dataset. (function `initialize_centroids`, 0.5)"
      ]
    },
    {
      "cell_type": "code",
      "execution_count": 25,
      "metadata": {
        "colab": {
          "base_uri": "https://localhost:8080/"
        },
        "id": "6S7V1LX8mpHu",
        "outputId": "97694a42-db4c-4e0a-ef91-6018a61d3814"
      },
      "outputs": [
        {
          "output_type": "stream",
          "name": "stdout",
          "text": [
            "[[3 4]]\n"
          ]
        }
      ],
      "source": [
        "def initialize_centroids(abundance_matrix, num_clusters, random_seed=100):\n",
        "    \"\"\"\n",
        "    Initializes centroids for clustering.\n",
        "\n",
        "    You may consider using np.random.choice. https://numpy.org/doc/stable/reference/random/generated/numpy.random.choice.html\n",
        "    Carefully specify input into np.random.choice so that the returned array will NOT have 2 identical rows.\n",
        "    You will obtain 0 points for this task if your code generates 2 identical rows.\n",
        "\n",
        "    Parameters:\n",
        "    abundance_matrix: A 2D numpy array of shape (num_cells, num_proteins) representing protein abundance in cells.\n",
        "    num_clusters: An integer representing the number of clusters.\n",
        "    random_seed: An integer representing the random seed to ensure reproducibility.\n",
        "\n",
        "    Returns:\n",
        "    centroids: A 2D numpy array of shape (num_clusters, num_proteins) representing the initialized centroids.\n",
        "    \"\"\"\n",
        "    # You should NOT modify the random seed! Otherwise your code may NOT be able to pass ZINC.\n",
        "    # Fix the random seed\n",
        "    np.random.seed(random_seed)\n",
        "\n",
        "    ### Your code goes here ###\n",
        "    chosen_rows = np.random.choice(abundance_matrix.shape[0], num_clusters, replace=False)\n",
        "    return abundance_matrix[chosen_rows]\n",
        "    ### Your code ends here ###\n",
        "if __name__ == \"__main__\":\n",
        "    example_array=np.array([[1,2],[3,4]],)\n",
        "    result=initialize_centroids(abundance_matrix=example_array,num_clusters=1)\n",
        "    print(result)\n",
        "    # You are expected to get [[3,4]]"
      ]
    },
    {
      "cell_type": "markdown",
      "metadata": {
        "id": "2nMdPyfCmpHu"
      },
      "source": [
        "### Distance Calculation (1 Points)\n",
        "\n",
        "After the data points have been assigned to their new clusters, these new cluster assignments will be used to determine the new centroids. The new centroid is simply the **mean of the data point features assigned to that cluster**. (function compute_centroids, 0.5+0.5)\n",
        "\n",
        "This part carrys in total 1 point. First 0.5 points will be awarded based on accuracy of result, while another 0.5 points will be awarded based on vectorization. Special Note: Code with WRONG result will get 0 for vectorization."
      ]
    },
    {
      "cell_type": "code",
      "execution_count": 26,
      "metadata": {
        "colab": {
          "base_uri": "https://localhost:8080/"
        },
        "id": "YXffGOB-mpHu",
        "outputId": "732523a6-8e29-407e-a7e9-e99be2fff94f"
      },
      "outputs": [
        {
          "output_type": "stream",
          "name": "stdout",
          "text": [
            "[[2. 3.]]\n"
          ]
        }
      ],
      "source": [
        "def compute_centroids(abundance_matrix, labels):\n",
        "    \"\"\"\n",
        "    Computes the centroids of clusters based on assigned labels.\n",
        "\n",
        "    You may consider using np.arange https://numpy.org/doc/stable/reference/generated/numpy.arange.html\n",
        "    You may consider using np.expand_dims https://numpy.org/doc/stable/reference/generated/numpy.expand_dims.html\n",
        "    You may consider using np.sum https://numpy.org/doc/stable/reference/generated/numpy.sum.html\n",
        "    You may consider using np.matmul https://numpy.org/doc/stable/reference/generated/numpy.matmul.html\n",
        "\n",
        "    Parameters:\n",
        "    abundance_matrix: A 2D numpy array of shape (num_cells, num_proteins) representing protein abundance in cells.\n",
        "    labels: An 1D numpy array of shape (num_cells,) indicating the cluster assigned to each cell.\n",
        "\n",
        "    Returns:\n",
        "    centroids: A 2D numpy array of shape (num_clusters, num_proteins) representing the new centroids of each cluster.\n",
        "    \"\"\"\n",
        "\n",
        "    ### Your code goes here ###\n",
        "    # (5,1) (1,3) -> (5,3) -> (3,5) @ (5,2) -> (3,2)/(3,1)\n",
        "    num_clusters = np.max(labels) + 1 #3\n",
        "    cluster_mask = np.transpose(np.expand_dims(labels, 1) == np.expand_dims(np.arange(num_clusters), 0))\n",
        "    # print(cluster_mask)\n",
        "    cluster_distances_sum = cluster_mask @ abundance_matrix\n",
        "    # print(cluster_distances_sum)\n",
        "    return cluster_distances_sum / np.sum(cluster_mask, axis=1, keepdims=True)\n",
        "    ### Your code ends here ###\n",
        "\n",
        "\n",
        "if __name__ == \"__main__\":\n",
        "    example_array = np.array([[1, 2], [3, 4]])\n",
        "    example_labels = np.array([0, 0])\n",
        "    result = compute_centroids(abundance_matrix=example_array, labels=example_labels)\n",
        "    print(result)\n",
        "    # You are expected to get [[2,3]]"
      ]
    },
    {
      "cell_type": "markdown",
      "metadata": {
        "id": "1RD0MQbHmpHu"
      },
      "source": [
        "### Splitting Clusters (1 Points)\n",
        "\n",
        "Next we would like to split one cluster into two to increase the number of clusters.\n",
        "\n",
        "#### Splitting the Cluster with Largest Number of Data Points (0.5 Points)\n",
        "\n",
        "One possible approach would be splitting the cluster with largest number of data points. you may assume that different clusters will never have same number of data points. (function `cluster_max_frequency`, 0.25+0.25)\n",
        "\n",
        "This part carrys in total 0.5 point. First 0.25 points will be awarded based on accuracy of result, while another 0.25 points will be awarded based on vectorization. Special Note: Code with WRONG result will get 0 for vectorization."
      ]
    },
    {
      "cell_type": "code",
      "execution_count": 27,
      "metadata": {
        "colab": {
          "base_uri": "https://localhost:8080/"
        },
        "id": "ab1mY-W4mpHv",
        "outputId": "7a84388a-8ed4-458b-a603-52d2d7d828c9"
      },
      "outputs": [
        {
          "output_type": "stream",
          "name": "stdout",
          "text": [
            "0\n"
          ]
        }
      ],
      "source": [
        "def cluster_max_frequency(labels):\n",
        "    \"\"\"\n",
        "    Determines which cluster has the highest number of assigned cells for potential splitting.\n",
        "\n",
        "    You may consider using np.arange https://numpy.org/doc/stable/reference/generated/numpy.arange.html\n",
        "    You may consider using np.expand_dims https://numpy.org/doc/stable/reference/generated/numpy.expand_dims.html\n",
        "    You may consider using np.sum https://numpy.org/doc/stable/reference/generated/numpy.sum.html\n",
        "    You may consider using np.max https://numpy.org/doc/stable/reference/generated/numpy.max.html\n",
        "    You may consider using np.argmax https://numpy.org/doc/stable/reference/generated/numpy.argmax.html\n",
        "    Alternatively, you may consider using np.bincount https://numpy.org/doc/stable/reference/generated/numpy.bincount.html\n",
        "    and np.argmax https://numpy.org/doc/stable/reference/generated/numpy.argmax.html\n",
        "\n",
        "    Parameters:\n",
        "    labels: An numpy 1D array of shape (num_cells,) indicating the cluster assigned to each cell.\n",
        "\n",
        "    Returns:\n",
        "    cluster_to_be_split: An integer representing the index of the cluster that has the maximum frequency of assigned cells.\n",
        "    \"\"\"\n",
        "    ### Your code goes here ###\n",
        "    cluster_frequencies = np.bincount(labels)\n",
        "    # print(cluster_frequencies)\n",
        "    return np.argmax(cluster_frequencies)\n",
        "    ### Your code ends here ###\n",
        "\n",
        "\n",
        "if __name__ == \"__main__\":\n",
        "    example_labels = np.array([0, 0, 1])\n",
        "    result = cluster_max_frequency(labels=example_labels)\n",
        "    print(result)\n",
        "    # You are expected to get 0"
      ]
    },
    {
      "cell_type": "markdown",
      "metadata": {
        "id": "0Y_uaQSy2cA8"
      },
      "source": [
        "#### Splitting the Cluster with Largest Inertia (0.5 Points)\n",
        "\n",
        "Another criterion would be the cluster with largest inertia. Inertia is calculated by summing all squared distance between all data points within a cluster and the corresponding cluster centroid. The cluster with highest inertia shall be split. (function `cluster_max_inertia`, 0.25+0.25)\n",
        "\n",
        "This part carrys in total 0.5 point. First 0.25 points will be awarded based on accuracy of result, while another 0.25 points will be awarded based on vectorization. Special Note: Code with WRONG result will get 0 for vectorization."
      ]
    },
    {
      "cell_type": "code",
      "execution_count": 28,
      "metadata": {
        "colab": {
          "base_uri": "https://localhost:8080/"
        },
        "id": "iuinkmTO2cA9",
        "outputId": "0d49aa06-dc20-4d0d-d92d-e058365e2d47"
      },
      "outputs": [
        {
          "output_type": "stream",
          "name": "stdout",
          "text": [
            "1\n"
          ]
        }
      ],
      "source": [
        "def cluster_max_inertia(abundance_matrix, centroids, labels):\n",
        "    \"\"\"\n",
        "    Determines which cluster has the highest inertia for potential splitting.\n",
        "\n",
        "    You may consider using np.arange https://numpy.org/doc/stable/reference/generated/numpy.arange.html\n",
        "    You may consider using np.expand_dims https://numpy.org/doc/stable/reference/generated/numpy.expand_dims.html\n",
        "    You may consider using np.sum https://numpy.org/doc/stable/reference/generated/numpy.sum.html\n",
        "    You may consider using np.max https://numpy.org/doc/stable/reference/generated/numpy.max.html\n",
        "    You may consider using np.argmax https://numpy.org/doc/stable/reference/generated/numpy.argmax.html\n",
        "\n",
        "    Parameters:\n",
        "    abundance_matrix: A numpy 2D array of shape (num_cells, num_proteins) representing protein abundance in cells.\n",
        "    centroids: A numpy 2D array of shape (num_centroids, num_proteins) representing protein abundance in centroids.\n",
        "    labels: A numpy 1D array of shape (num_cells,) indicating the cluster assigned to each cell.\n",
        "\n",
        "    Returns:\n",
        "    cluster_to_be_split: An integer representing the index of the cluster that will be further split based on inertia.\n",
        "    \"\"\"\n",
        "    ### Your code goes here ###\n",
        "    # (1,5,2) - (3,1,2) (5,1) -> (3,5,2) * (3,5,1)(0or1) -> norm(2)^2 -> (3,5,) -> sum(1) -> (3,) -> argmax(0) -> (1,)\n",
        "    abundance_matrix_exp = np.expand_dims(abundance_matrix, 0)\n",
        "    centroids_exp = np.expand_dims(centroids, 1)\n",
        "    num_clusters = np.max(labels) + 1 #3\n",
        "    centroid_mask = np.expand_dims(np.arange(num_clusters), 1) == np.expand_dims(labels, 0)\n",
        "    # print(centroid_mask)\n",
        "    squared_distances = np.square(np.linalg.norm((abundance_matrix_exp - centroids_exp) * np.expand_dims(centroid_mask, 2),  axis=2))\n",
        "    # print(squared_distances)\n",
        "    inertia = np.sum(squared_distances, axis=1)\n",
        "    return np.argmax(inertia, axis=0)\n",
        "    ### Your code ends here ###\n",
        "\n",
        "\n",
        "if __name__ == \"__main__\":\n",
        "    example_feature = np.array([[1, 1], [-1, -1], [2, 2], [-2, 2]])\n",
        "    example_centroids = np.array([[0, 0], [0, 2]])\n",
        "    example_labels = np.array([0, 0, 1, 1])\n",
        "    result = cluster_max_inertia(\n",
        "        abundance_matrix=example_feature,\n",
        "        centroids=example_centroids,\n",
        "        labels=example_labels,\n",
        "    )\n",
        "    print(result)\n",
        "    # You are expected to get 1."
      ]
    },
    {
      "cell_type": "markdown",
      "metadata": {
        "id": "kRdH2oahmpHv"
      },
      "source": [
        "### Combining Helper Functions (1 Point)\n",
        "\n",
        "Now we would like to combine the helper functions implemented above to create a simplified version of the Bisecting K-Means algorithm. (function: `k_means_split`, 1 point)\n",
        "\n",
        "The function first clusters the data points into initial *k* clusters (controlled by `initial_k`). The clustering process will stop after the maximum number of iterations is reached (controlled by `max_iterations`) or if the labels do not change in consecutive 2 steps (i.e., after calculating centroids for the *i*-th time and *i+1*-th time, if the labels remain the same). (This part has been implemented for you.)\n",
        "\n",
        "After generating *k* clusters, the function `cluster_max_frequency` or `cluster_max_inertia` will return the label of the cluster to be split (let's call it cluster *S*). (This part has been implemented for you.)\n",
        "\n",
        "You will need to delete the centroid of the cluster that will be further split from the array of centroids, select the data points that belong to cluster *S* (pass these points to `cluster_points`), and then initialize new centroids by calling `initialize_centroids`. You should initialize the centroids based only on the selected data points. You do NOT need to select a random seed when initializing new centroids\n",
        "\n",
        "Next, apply regular k-means to the data points in cluster *S* and obtain 2 centroids for that cluster. (This part has been implemented for you.)\n",
        "\n",
        "Finally, you will need to append those 2 centroids to the existing centroids (which contain the other centroids from the first k-means step) and re-assign labels to all data points based on the new centroids.\n",
        "\n",
        "This part carries a total of 1 point, awarded for accuracy."
      ]
    },
    {
      "cell_type": "code",
      "execution_count": 30,
      "metadata": {
        "colab": {
          "base_uri": "https://localhost:8080/"
        },
        "id": "uOyl6YJLmpHv",
        "outputId": "5e3d7cd3-2a8e-4dc7-f5b4-98a66a9848dd"
      },
      "outputs": [
        {
          "output_type": "stream",
          "name": "stdout",
          "text": [
            "[[100. 100.]\n",
            " [  1.   1.]\n",
            " [ 10.  10.]]\n",
            "[1 1 2 0]\n"
          ]
        }
      ],
      "source": [
        "def k_means_split(abundance_matrix, initial_k=2, max_iterations=50, frequency=False):\n",
        "    \"\"\"\n",
        "    Performs k-means clustering and splits the most appropriate cluster.\n",
        "\n",
        "    You may consider using np.argmin https://numpy.org/doc/stable/reference/generated/numpy.argmin.html\n",
        "    You may consider using np.delete https://numpy.org/doc/stable/reference/generated/numpy.delete.html\n",
        "    You may consider using np.append https://numpy.org/doc/stable/reference/generated/numpy.append.html\n",
        "\n",
        "    Parameters:\n",
        "    abundance_matrix: A numpy 2D array of shape (num_cells, num_proteins) representing protein abundance in cells.\n",
        "    initial_k: An integer representing the initial number of clusters to be initialized.\n",
        "    max_iterations: An integer representing the maximum number of iterations for the k-means algorithm.\n",
        "    frequency: A boolean, if True, selects the cluster to be split based on frequency; otherwise, uses inertia.\n",
        "\n",
        "    Returns:\n",
        "    centroids: A 2D numpy array of shape (num_clusters, num_proteins) representing the new centroids of each cluster.\n",
        "    labels: An 1D numpy array of shape (num_cells,) indicating the cluster assigned to each cell.\n",
        "    \"\"\"\n",
        "    centroids = initialize_centroids(abundance_matrix, initial_k) # Note: This is a placeholder, you need to update this value in your code below.\n",
        "    labels = np.zeros(abundance_matrix.shape[0], dtype=int) # Note: This is a placeholder, you need to update this value in your code below.\n",
        "    for i in range(max_iterations):\n",
        "        distances = calculate_euclidean_distance(abundance_matrix, centroids)\n",
        "        labels = np.argmin(distances, axis=0)\n",
        "        centroids = compute_centroids(abundance_matrix, labels)\n",
        "        next_distances = calculate_euclidean_distance(abundance_matrix, centroids)\n",
        "        next_label = np.argmin(next_distances, axis=0)\n",
        "        if np.all(next_label == labels):\n",
        "            break\n",
        "    if frequency:\n",
        "        cluster_to_be_split = cluster_max_frequency(labels)\n",
        "    else:\n",
        "        cluster_to_be_split = cluster_max_inertia(abundance_matrix, centroids, labels)\n",
        "\n",
        "    split_cluster_data = abundance_matrix[labels == cluster_to_be_split]\n",
        "    new_centroids = None # Note: This is a placeholder, you need to update this value in your code below.\n",
        "    ### Your code goes here ###\n",
        "    centroids = np.delete(centroids, cluster_to_be_split, axis=0)\n",
        "    new_centroids = initialize_centroids(split_cluster_data, 2)\n",
        "    ### Your code ends here ###\n",
        "\n",
        "\n",
        "    for j in range(max_iterations):\n",
        "        new_distances = calculate_euclidean_distance(split_cluster_data, new_centroids)\n",
        "        new_labels = np.argmin(new_distances, axis=0)\n",
        "        new_centroids = compute_centroids(split_cluster_data, new_labels)\n",
        "        new_next_distances = calculate_euclidean_distance(split_cluster_data, new_centroids)\n",
        "        new_next_label = np.argmin(new_next_distances, axis=0)\n",
        "        if np.all(new_next_label == new_labels):\n",
        "            break\n",
        "\n",
        "\n",
        "    ### Your code goes here ###\n",
        "    centroids = np.append(centroids, new_centroids, axis=0)\n",
        "    distances = calculate_euclidean_distance(abundance_matrix, centroids)\n",
        "    labels = np.argmin(distances, axis=0)\n",
        "    ### Your code ends here ###\n",
        "\n",
        "    return centroids, labels\n",
        "    # Returns: centroids: cell*protein matrix representing protein abundance in centroids (numpy array of shape (k, number of proteins));\n",
        "    # labels: cluster assigned to each cell (numpy array of shape(number of cells,).\n",
        "\n",
        "\n",
        "if __name__ == \"__main__\":\n",
        "    example_array = np.array([[0, 0], [2, 2], [10, 10], [100, 100]])\n",
        "    result_centroids, result_labels = k_means_split(abundance_matrix=example_array)\n",
        "    print(result_centroids)\n",
        "    # You are expected to get [[100,100],[1,1],[10,10]]\n",
        "    print(result_labels)\n",
        "    # You are expected to get [1,1,2,0]"
      ]
    },
    {
      "cell_type": "code",
      "execution_count": 31,
      "metadata": {
        "colab": {
          "base_uri": "https://localhost:8080/"
        },
        "id": "8Cfft5NCmpHv",
        "outputId": "97c9780f-de76-4614-bcef-e2ea1cccead4"
      },
      "outputs": [
        {
          "output_type": "stream",
          "name": "stdout",
          "text": [
            "[2 2 2 1 2 2 2 2 2 2 1 1 2 2 2 2 2 2 2 2 2 2 2 2 2 2 2 2 2 2 2 2 2 2 1 1 1\n",
            " 1 1 1 1 1 1 1 2 2 1 1 1 1 2 2 1 1 1 1 1 1 1 1 1 1 1 1 1 1 2 2 0 0 0 0 0 0\n",
            " 0 0 0 0 0 0 0 0 0 0 2 2 0 0 0 0 0 0 0 0 0]\n"
          ]
        }
      ],
      "source": [
        "if __name__ == \"__main__\":\n",
        "    new_centroids, labels = k_means_split(processed_train_feature)\n",
        "    print(labels)\n",
        "    # You are expected to get [2 2 2 1 2 2 2 2 2 2 1 1 2 2 2 2 2 2 2 2 2 2 2 2 2 2 2 2 2 2 2 2 2 2 1 1 1\n",
        "    # 1 1 1 1 1 1 1 2 2 1 1 1 1 2 2 1 1 1 1 1 1 1 1 1 1 1 1 1 1 2 2 0 0 0 0 0 0\n",
        "    # 0 0 0 0 0 0 0 0 0 0 2 2 0 0 0 0 0 0 0 0 0]"
      ]
    },
    {
      "cell_type": "markdown",
      "metadata": {
        "id": "z2RWFik92cA_"
      },
      "source": [
        "## Final Reminder: ##\n",
        "* Review the changelog and FAQ on the <a href=\"https://course.cse.ust.hk/comp2211/assignments/pa1\">assignment webpage</a>.\n",
        "* While we provided you with some sample test cases on ZINC, the test cases used for final grading may be different. This means that if you hard code the answers, or make your model specific for this dataset in some way, your final PA1 grade may be much lower than the grade given by ZINC."
      ]
    }
  ],
  "metadata": {
    "colab": {
      "provenance": []
    },
    "kernelspec": {
      "display_name": "venv",
      "language": "python",
      "name": "python3"
    },
    "language_info": {
      "codemirror_mode": {
        "name": "ipython",
        "version": 3
      },
      "file_extension": ".py",
      "mimetype": "text/x-python",
      "name": "python",
      "nbconvert_exporter": "python",
      "pygments_lexer": "ipython3",
      "version": "3.11.8"
    }
  },
  "nbformat": 4,
  "nbformat_minor": 0
}